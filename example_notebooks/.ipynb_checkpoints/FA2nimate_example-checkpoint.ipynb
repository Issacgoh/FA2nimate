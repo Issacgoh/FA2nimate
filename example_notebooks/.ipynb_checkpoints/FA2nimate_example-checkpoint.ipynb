{
 "cells": [
  {
   "cell_type": "markdown",
   "id": "rural-statistics",
   "metadata": {},
   "source": [
    "# FA2nimate\n",
    "##### A fun wrapper and for producing iterated movies from iterative FDG graph layout optimizations\n",
    "\n",
    "# FA2nimate workflow\n",
    "\n",
    "##### Ver:: A0.1.0\n",
    "##### Author(s) : Issac Goh\n",
    "##### Date : 230820;YYMMDD\n",
    "### Author notes\n",
    "    - Current defaults scrape data from web, so leave as default and run\n",
    "    \n",
    "### Features to add\n",
    "    - Add support for plotting modules from igraph\n",
    "    \n",
    "### Modes to run in\n",
    "    - FA2/FR"
   ]
  },
  {
   "cell_type": "code",
   "execution_count": 1,
   "id": "unnecessary-agent",
   "metadata": {},
   "outputs": [],
   "source": [
    "# ! pip install FA2nimate\n",
    "import FA2nimate as FAN"
   ]
  },
  {
   "cell_type": "markdown",
   "id": "finished-domestic",
   "metadata": {},
   "source": [
    "# Data input module"
   ]
  },
  {
   "cell_type": "code",
   "execution_count": 2,
   "id": "average-bishop",
   "metadata": {},
   "outputs": [],
   "source": [
    "adatas_dict = {\n",
    "'YS_wget':'https://app.cellatlas.io/yolk-sac/dataset/23/download',\n",
    "'example_wget':'https://app.cellatlas.io/yolk-sac/dataset/15/download',\n",
    "'example_YS_myeloid_wget':'https://app.cellatlas.io/yolk-sac/dataset/10/download',\n",
    "}\n",
    "\n",
    "# setup model parameters:\n",
    "model_params = {\n",
    "# data loader params\n",
    "'data_key_use':'example_YS_myeloid_wget',\n",
    "'data_merge':False,\n",
    "'QC_normalise':False,\n",
    "'backed':'r',\n",
    "\n",
    "# Animation parameters\n",
    "'feat_use': 'LR_assignment_v2',\n",
    "'use_initial' : 'X_umap', # what partition should we extract positions from?\n",
    "'n_iterations' : 100, #Increase if experiencing max iter issues\n",
    "'knn_key' : 'neighbors', # If you used KNN in scapy, this would be neighbors by default, but any other key must be stored in .obsp and have a call out in .uns (see scanpy default structure for more info)\n",
    "'edges': False,  # set to True to plot edges between cells\n",
    "'edge_subset' : 0.3   ,\n",
    "'desired_total_duration' : 10,  # Your desired total duration in seconds\n",
    "'resolution' : (1080,720),#(1920, 1080)  # output movie resolution\n",
    "'dpi' : 150,   # Pixel density of output\n",
    "'alg':'FA2', # This defaults to the FA2 algorythym.\n",
    "'skip_iterations': 1, #Number of iterations to skip between frames\n",
    "'explosion_duration':0.15, # duration of the interpolated explosion sequence in seconds\n",
    "'var_length' : 7500, # If we need to compute a PCA transformation, how many VAR should we use?\n",
    "'out_path':'./',\n",
    "'markersize':'10',\n",
    "    \n",
    "# Stratified Bayes sampler kwargs\n",
    "'sample_data_knn':False, \n",
    "'sampling_rate': 0.5,# Apply empirical bayes sampling weighted by knn?\n",
    "'iterations': 2,#How many iterations of sampling to use for empirical bayes sampler? Set this to 1 if you do not want any upsampling of rare-states. Probabilities update for each iteration and favour rare-states, increasing iter, naturally increases rare-sampling events\n",
    "'representation_priority': 0.95, # This exponentially controls the sampling rate for rare-states, where 1 represents low-prioritisation, 0.1 represetns maximum prioritisation\n",
    "'replace': False, # Allows model to clone cells\n",
    "'equal_allocation': False, # Forces model to create equal representation sets\n",
    "'weight_penalty': 'connectivity_ratio', # Or 'entropy_distance' or \"connectivity_ratio\"\n",
    "}"
   ]
  },
  {
   "cell_type": "code",
   "execution_count": 3,
   "id": "unusual-marathon",
   "metadata": {},
   "outputs": [
    {
     "name": "stdout",
     "output_type": "stream",
     "text": [
      "Loading anndata from web source\n",
      "initialisation coordinates not detected in data, proceeding to compute PCA\n",
      "We are assuming your data is pre-normalised\n",
      "unable to compute dispersion, is your data norm?\n",
      "proceeding to compute PCA on all genes as Highly var was not possible\n"
     ]
    },
    {
     "ename": "KeyError",
     "evalue": "'X_umap'",
     "output_type": "error",
     "traceback": [
      "\u001b[0;31m---------------------------------------------------------------------------\u001b[0m",
      "\u001b[0;31mKeyError\u001b[0m                                  Traceback (most recent call last)",
      "Input \u001b[0;32mIn [3]\u001b[0m, in \u001b[0;36m<cell line: 4>\u001b[0;34m()\u001b[0m\n\u001b[1;32m      2\u001b[0m adata \u001b[38;5;241m=\u001b[39m  FAN\u001b[38;5;241m.\u001b[39mload_adatas(adatas_dict, \u001b[38;5;241m*\u001b[39m\u001b[38;5;241m*\u001b[39mmodel_params)\n\u001b[1;32m      3\u001b[0m \u001b[38;5;66;03m# Now let's register our data, this step checks the model parameters and set's global defaults\u001b[39;00m\n\u001b[0;32m----> 4\u001b[0m adata,positions,snn \u001b[38;5;241m=\u001b[39m \u001b[43mFAN\u001b[49m\u001b[38;5;241;43m.\u001b[39;49m\u001b[43mregister_data\u001b[49m\u001b[43m(\u001b[49m\u001b[43madata\u001b[49m\u001b[43m,\u001b[49m\u001b[43m \u001b[49m\u001b[38;5;241;43m*\u001b[39;49m\u001b[38;5;241;43m*\u001b[39;49m\u001b[43mmodel_params\u001b[49m\u001b[43m)\u001b[49m\n\u001b[1;32m      6\u001b[0m \u001b[38;5;66;03m# Optionally, we can perform some sampling to up sample rare-states and allow them to impact the resultant model optimisation\u001b[39;00m\n\u001b[1;32m      7\u001b[0m \u001b[38;5;28;01mif\u001b[39;00m model_params[\u001b[38;5;124m'\u001b[39m\u001b[38;5;124msample_data_knn\u001b[39m\u001b[38;5;124m'\u001b[39m] \u001b[38;5;241m!=\u001b[39m \u001b[38;5;28;01mFalse\u001b[39;00m:\n",
      "File \u001b[0;32m~/my-conda-envs/knn_bayes/lib/python3.10/site-packages/FA2nimate/main.py:59\u001b[0m, in \u001b[0;36mregister_data\u001b[0;34m(adata, feat_use, n_iterations, skip_iterations, explosion_duration, knn_key, use_initial, var_length, **kwargs)\u001b[0m\n\u001b[1;32m     56\u001b[0m         \u001b[38;5;28mprint\u001b[39m(\u001b[38;5;124m'\u001b[39m\u001b[38;5;124mproceeding to compute PCA on all genes as Highly var was not possible\u001b[39m\u001b[38;5;124m'\u001b[39m)\n\u001b[1;32m     57\u001b[0m     sc\u001b[38;5;241m.\u001b[39mpp\u001b[38;5;241m.\u001b[39mpca(adata,\u001b[38;5;241m50\u001b[39m)\n\u001b[0;32m---> 59\u001b[0m positions \u001b[38;5;241m=\u001b[39m \u001b[43madata\u001b[49m\u001b[38;5;241;43m.\u001b[39;49m\u001b[43mobsm\u001b[49m\u001b[43m[\u001b[49m\u001b[43muse_initial\u001b[49m\u001b[43m]\u001b[49m[:, :\u001b[38;5;241m2\u001b[39m]\u001b[38;5;241m.\u001b[39mcopy()\n\u001b[1;32m     61\u001b[0m \u001b[38;5;66;03m# Now check KNN/custom connectivites graph\u001b[39;00m\n\u001b[1;32m     62\u001b[0m \u001b[38;5;28;01mif\u001b[39;00m \u001b[38;5;129;01mnot\u001b[39;00m knn_key \u001b[38;5;129;01min\u001b[39;00m adata\u001b[38;5;241m.\u001b[39muns\u001b[38;5;241m.\u001b[39mkeys():\n",
      "File \u001b[0;32m~/my-conda-envs/knn_bayes/lib/python3.10/site-packages/anndata/_core/aligned_mapping.py:148\u001b[0m, in \u001b[0;36mAlignedActualMixin.__getitem__\u001b[0;34m(self, key)\u001b[0m\n\u001b[1;32m    147\u001b[0m \u001b[38;5;28;01mdef\u001b[39;00m \u001b[38;5;21m__getitem__\u001b[39m(\u001b[38;5;28mself\u001b[39m, key: \u001b[38;5;28mstr\u001b[39m) \u001b[38;5;241m-\u001b[39m\u001b[38;5;241m>\u001b[39m V:\n\u001b[0;32m--> 148\u001b[0m     \u001b[38;5;28;01mreturn\u001b[39;00m \u001b[38;5;28;43mself\u001b[39;49m\u001b[38;5;241;43m.\u001b[39;49m\u001b[43m_data\u001b[49m\u001b[43m[\u001b[49m\u001b[43mkey\u001b[49m\u001b[43m]\u001b[49m\n",
      "\u001b[0;31mKeyError\u001b[0m: 'X_umap'"
     ]
    }
   ],
   "source": [
    "# Let's load our dataset first. We can do this in backed mode\n",
    "adata =  FAN.load_adatas(adatas_dict, **model_params)\n",
    "# Now let's register our data, this step checks the model parameters and set's global defaults\n",
    "adata,positions,snn = FAN.register_data(adata, **model_params)\n",
    "\n",
    "# Optionally, we can perform some sampling to up sample rare-states and allow them to impact the resultant model optimisation\n",
    "if model_params['sample_data_knn'] != False:\n",
    "    print('Empirical bayes sampling option selected')\n",
    "    adata_samp, indices = FAN.empirical_bayes_balanced_stratified_KNN_sampling(adata, **model_params)\n",
    "    scent.plot_sampling_metrics(adata,adata_samp, **model_params)\n",
    "    adata = adata_samp.to_memory()\n",
    "print('adata registered')"
   ]
  },
  {
   "cell_type": "code",
   "execution_count": null,
   "id": "intelligent-colors",
   "metadata": {},
   "outputs": [],
   "source": [
    "fpath = FAN.setup_animation(adata,**model_params)"
   ]
  },
  {
   "cell_type": "code",
   "execution_count": null,
   "id": "adolescent-integrity",
   "metadata": {},
   "outputs": [],
   "source": [
    "play(fpath)"
   ]
  },
  {
   "cell_type": "code",
   "execution_count": null,
   "id": "foreign-tyler",
   "metadata": {},
   "outputs": [],
   "source": []
  }
 ],
 "metadata": {
  "kernelspec": {
   "display_name": "knn_bayes",
   "language": "python",
   "name": "knn_bayes"
  },
  "language_info": {
   "codemirror_mode": {
    "name": "ipython",
    "version": 3
   },
   "file_extension": ".py",
   "mimetype": "text/x-python",
   "name": "python",
   "nbconvert_exporter": "python",
   "pygments_lexer": "ipython3",
   "version": "3.10.9"
  }
 },
 "nbformat": 4,
 "nbformat_minor": 5
}
