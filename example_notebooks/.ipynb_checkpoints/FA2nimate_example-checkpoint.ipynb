{
 "cells": [
  {
   "cell_type": "markdown",
   "id": "breeding-damages",
   "metadata": {},
   "source": [
    "# Graphimate\n",
    "##### A fun wrapper and for producing iterated movies from iterative FDG graph layout optimizations\n",
    "\n",
    "# Graphimate workflow\n",
    "\n",
    "##### Ver:: A0.1.0\n",
    "##### Author(s) : Issac Goh\n",
    "##### Date : 230820;YYMMDD\n",
    "### Author notes\n",
    "    - Current defaults scrape data from web, so leave as default and run\n",
    "    \n",
    "### Features to add\n",
    "    - Add support for plotting modules from igraph\n",
    "    \n",
    "### Modes to run in\n",
    "    - FA2/FR"
   ]
  },
  {
   "cell_type": "code",
   "execution_count": 17,
   "id": "descending-maryland",
   "metadata": {},
   "outputs": [],
   "source": [
    "# ! pip install FA2nimate\n",
    "import graphimate as gph"
   ]
  },
  {
   "cell_type": "markdown",
   "id": "curious-anger",
   "metadata": {},
   "source": [
    "# Data input module"
   ]
  },
  {
   "cell_type": "code",
   "execution_count": 18,
   "id": "welcome-fault",
   "metadata": {},
   "outputs": [],
   "source": [
    "adatas_dict = {\n",
    "'YS_wget':'https://app.cellatlas.io/yolk-sac/dataset/23/download',\n",
    "'example_wget':'https://app.cellatlas.io/yolk-sac/dataset/15/download',\n",
    "'example_YS_myeloid_wget':'https://app.cellatlas.io/yolk-sac/dataset/10/download',\n",
    "}\n",
    "\n",
    "# setup model parameters:\n",
    "model_params = {\n",
    "# data loader params\n",
    "'data_key_use':'example_YS_myeloid_wget',\n",
    "'data_merge':False,\n",
    "'QC_normalise':False,\n",
    "'backed':'r',\n",
    "\n",
    "# Animation parameters\n",
    "'feat_use': 'cell.labels',\n",
    "'use_initial' : 'X_pca', # what partition should we extract positions from?\n",
    "'n_iterations' : 500, #Increase if experiencing max iter issues\n",
    "'knn_key' : 'neighbors', # If you used KNN in scapy, this would be neighbors by default, but any other key must be stored in .obsp and have a call out in .uns (see scanpy default structure for more info)\n",
    "'edges': True,  # set to True to plot edges between cells\n",
    "'edge_subset' : 0.2   ,\n",
    "'desired_total_duration' : 30,  # Your desired total duration in seconds\n",
    "'resolution' : (1080,720),#(1920, 1080)  # output movie resolution\n",
    "'dpi' : 150,   # Pixel density of output\n",
    "'alg':'FA2', # This defaults to the FA2 algorythym.\n",
    "'skip_iterations': 1, #Number of iterations to skip between frames\n",
    "'explosion_duration':0.15, # duration of the interpolated explosion sequence in seconds\n",
    "'var_length' : 7500, # If we need to compute a PCA transformation, how many VAR should we use?\n",
    "'out_path':'./',\n",
    "'markersize':'10',\n",
    "    \n",
    "# Stratified Bayes sampler kwargs\n",
    "'sample_data_knn':False, \n",
    "'sampling_rate': 0.5,# Apply empirical bayes sampling weighted by knn?\n",
    "'iterations': 2,#How many iterations of sampling to use for empirical bayes sampler? Set this to 1 if you do not want any upsampling of rare-states. Probabilities update for each iteration and favour rare-states, increasing iter, naturally increases rare-sampling events\n",
    "'representation_priority': 0.95, # This exponentially controls the sampling rate for rare-states, where 1 represents low-prioritisation, 0.1 represetns maximum prioritisation\n",
    "'replace': False, # Allows model to clone cells\n",
    "'equal_allocation': False, # Forces model to create equal representation sets\n",
    "'weight_penalty': 'connectivity_ratio', # Or 'entropy_distance' or \"connectivity_ratio\"\n",
    "}"
   ]
  },
  {
   "cell_type": "code",
   "execution_count": null,
   "id": "finite-genome",
   "metadata": {},
   "outputs": [
    {
     "name": "stdout",
     "output_type": "stream",
     "text": [
      "Loading anndata from web source\n",
      "initialisation coordinates not detected in data, proceeding to compute PCA\n",
      "We are assuming your data is pre-normalised\n",
      "unable to compute dispersion, is your data norm?\n",
      "proceeding to compute PCA on all genes as Highly var was not possible\n"
     ]
    }
   ],
   "source": [
    "# Let's load our dataset first. We can do this in backed mode\n",
    "adata =  gph.load_adatas(adatas_dict, **model_params)\n",
    "# Now let's register our data, this step checks the model parameters and set's global defaults\n",
    "adata,positions,snn = gph.register_data(adata, **model_params)\n",
    "\n",
    "# Optionally, we can perform some sampling to up sample rare-states and allow them to impact the resultant model optimisation\n",
    "if model_params['sample_data_knn'] != False:\n",
    "    print('Empirical bayes sampling option selected')\n",
    "    adata_samp, indices = gph.empirical_bayes_balanced_stratified_KNN_sampling(adata, **model_params)\n",
    "    gph.plot_sampling_metrics(adata,adata_samp, **model_params)\n",
    "    adata = adata_samp.to_memory()\n",
    "print('adata registered')"
   ]
  },
  {
   "cell_type": "code",
   "execution_count": null,
   "id": "assured-color",
   "metadata": {},
   "outputs": [],
   "source": [
    "adata"
   ]
  },
  {
   "cell_type": "markdown",
   "id": "amended-ethernet",
   "metadata": {},
   "source": [
    "# Animation setup using model_params"
   ]
  },
  {
   "cell_type": "code",
   "execution_count": null,
   "id": "composed-fetish",
   "metadata": {},
   "outputs": [],
   "source": [
    "fpath = gph.setup_animation(adata,**model_params)"
   ]
  },
  {
   "cell_type": "markdown",
   "id": "ready-values",
   "metadata": {},
   "source": [
    "# Play the animation"
   ]
  },
  {
   "cell_type": "code",
   "execution_count": null,
   "id": "alike-local",
   "metadata": {},
   "outputs": [],
   "source": [
    "gph.play(fpath)"
   ]
  }
 ],
 "metadata": {
  "kernelspec": {
   "display_name": "knn_bayes",
   "language": "python",
   "name": "knn_bayes"
  },
  "language_info": {
   "codemirror_mode": {
    "name": "ipython",
    "version": 3
   },
   "file_extension": ".py",
   "mimetype": "text/x-python",
   "name": "python",
   "nbconvert_exporter": "python",
   "pygments_lexer": "ipython3",
   "version": "3.10.9"
  }
 },
 "nbformat": 4,
 "nbformat_minor": 5
}
