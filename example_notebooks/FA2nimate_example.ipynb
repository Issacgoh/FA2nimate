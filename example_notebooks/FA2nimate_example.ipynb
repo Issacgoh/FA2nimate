{
 "cells": [
  {
   "cell_type": "markdown",
   "id": "fourth-messenger",
   "metadata": {},
   "source": [
    "# FA2nimate\n",
    "##### A fun wrapper and for producing iterated movies from iterative FDG graph layout optimizations\n",
    "\n",
    "# FA2nimate workflow\n",
    "\n",
    "##### Ver:: A0.1.0\n",
    "##### Author(s) : Issac Goh\n",
    "##### Date : 230820;YYMMDD\n",
    "### Author notes\n",
    "    - Current defaults scrape data from web, so leave as default and run\n",
    "    \n",
    "### Features to add\n",
    "    - Add support for plotting modules from igraph\n",
    "    \n",
    "### Modes to run in\n",
    "    - FA2/FR"
   ]
  },
  {
   "cell_type": "code",
   "execution_count": 1,
   "id": "pretty-deadline",
   "metadata": {},
   "outputs": [],
   "source": [
    "# ! pip install FA2nimate\n",
    "import FA2nimate as FAN"
   ]
  },
  {
   "cell_type": "markdown",
   "id": "likely-retention",
   "metadata": {},
   "source": [
    "# Data input module"
   ]
  },
  {
   "cell_type": "code",
   "execution_count": 5,
   "id": "peripheral-siemens",
   "metadata": {},
   "outputs": [],
   "source": [
    "adatas_dict = {\n",
    "'YS_wget':'https://app.cellatlas.io/yolk-sac/dataset/23/download',\n",
    "'example_wget':'https://app.cellatlas.io/yolk-sac/dataset/15/download',\n",
    "'example_YS_myeloid_wget':'https://app.cellatlas.io/yolk-sac/dataset/10/download',\n",
    "}\n",
    "\n",
    "# setup model parameters:\n",
    "model_params = {\n",
    "# data loader params\n",
    "'data_key_use':'example_YS_myeloid_wget',\n",
    "'data_merge':False,\n",
    "'QC_normalise':False,\n",
    "'backed':'r',\n",
    "\n",
    "# Animation parameters\n",
    "'feat_use': 'LR_assignment_v2',\n",
    "'use_initial' : 'X_pca', # what partition should we extract positions from?\n",
    "'n_iterations' : 100, #Increase if experiencing max iter issues\n",
    "'knn_key' : 'neighbors', # If you used KNN in scapy, this would be neighbors by default, but any other key must be stored in .obsp and have a call out in .uns (see scanpy default structure for more info)\n",
    "'edges': False,  # set to True to plot edges between cells\n",
    "'edge_subset' : 0.3   ,\n",
    "'desired_total_duration' : 10,  # Your desired total duration in seconds\n",
    "'resolution' : (1080,720),#(1920, 1080)  # output movie resolution\n",
    "'dpi' : 150,   # Pixel density of output\n",
    "'alg':'FA2', # This defaults to the FA2 algorythym.\n",
    "'skip_iterations': 1, #Number of iterations to skip between frames\n",
    "'explosion_duration':0.15, # duration of the interpolated explosion sequence in seconds\n",
    "'var_length' : 7500, # If we need to compute a PCA transformation, how many VAR should we use?\n",
    "'out_path':'./',\n",
    "'markersize':'10',\n",
    "    \n",
    "# Stratified Bayes sampler kwargs\n",
    "'sample_data_knn':False, \n",
    "'sampling_rate': 0.5,# Apply empirical bayes sampling weighted by knn?\n",
    "'iterations': 2,#How many iterations of sampling to use for empirical bayes sampler? Set this to 1 if you do not want any upsampling of rare-states. Probabilities update for each iteration and favour rare-states, increasing iter, naturally increases rare-sampling events\n",
    "'representation_priority': 0.95, # This exponentially controls the sampling rate for rare-states, where 1 represents low-prioritisation, 0.1 represetns maximum prioritisation\n",
    "'replace': False, # Allows model to clone cells\n",
    "'equal_allocation': False, # Forces model to create equal representation sets\n",
    "'weight_penalty': 'connectivity_ratio', # Or 'entropy_distance' or \"connectivity_ratio\"\n",
    "}"
   ]
  },
  {
   "cell_type": "code",
   "execution_count": 6,
   "id": "varying-evans",
   "metadata": {},
   "outputs": [
    {
     "name": "stdout",
     "output_type": "stream",
     "text": [
      "Loading anndata from web source\n"
     ]
    },
    {
     "ename": "FileExistsError",
     "evalue": "[Errno 17] File exists: '.'",
     "output_type": "error",
     "traceback": [
      "\u001b[0;31m---------------------------------------------------------------------------\u001b[0m",
      "\u001b[0;31mFileExistsError\u001b[0m                           Traceback (most recent call last)",
      "Input \u001b[0;32mIn [6]\u001b[0m, in \u001b[0;36m<cell line: 2>\u001b[0;34m()\u001b[0m\n\u001b[1;32m      1\u001b[0m \u001b[38;5;66;03m# Let's load our dataset first. We can do this in backed mode\u001b[39;00m\n\u001b[0;32m----> 2\u001b[0m adata \u001b[38;5;241m=\u001b[39m  \u001b[43mFAN\u001b[49m\u001b[38;5;241;43m.\u001b[39;49m\u001b[43mload_adatas\u001b[49m\u001b[43m(\u001b[49m\u001b[43madatas_dict\u001b[49m\u001b[43m,\u001b[49m\u001b[43m \u001b[49m\u001b[38;5;241;43m*\u001b[39;49m\u001b[38;5;241;43m*\u001b[39;49m\u001b[43mmodel_params\u001b[49m\u001b[43m)\u001b[49m\n\u001b[1;32m      3\u001b[0m \u001b[38;5;66;03m# Now let's register our data, this step checks the model parameters and set's global defaults\u001b[39;00m\n\u001b[1;32m      4\u001b[0m adata,positions,snn \u001b[38;5;241m=\u001b[39m FAN\u001b[38;5;241m.\u001b[39mregister_data(adata, \u001b[38;5;241m*\u001b[39m\u001b[38;5;241m*\u001b[39mmodel_params)\n",
      "File \u001b[0;32m~/my-conda-envs/knn_bayes/lib/python3.10/site-packages/FA2nimate/data_loaders.py:143\u001b[0m, in \u001b[0;36mload_adatas\u001b[0;34m(adatas_dict, data_key_use, data_merge, QC_normalise, backed, **kwargs)\u001b[0m\n\u001b[1;32m    141\u001b[0m \u001b[38;5;28;01mif\u001b[39;00m \u001b[38;5;124m'\u001b[39m\u001b[38;5;124mhttps\u001b[39m\u001b[38;5;124m'\u001b[39m \u001b[38;5;129;01min\u001b[39;00m adatas_dict[data_key_use]:\n\u001b[1;32m    142\u001b[0m     \u001b[38;5;28mprint\u001b[39m(\u001b[38;5;124m'\u001b[39m\u001b[38;5;124mLoading anndata from web source\u001b[39m\u001b[38;5;124m'\u001b[39m)\n\u001b[0;32m--> 143\u001b[0m     adata \u001b[38;5;241m=\u001b[39m \u001b[43msc\u001b[49m\u001b[38;5;241;43m.\u001b[39;49m\u001b[43mread\u001b[49m\u001b[43m(\u001b[49m\u001b[38;5;124;43m'\u001b[39;49m\u001b[38;5;124;43m./temp_adata.h5ad\u001b[39;49m\u001b[38;5;124;43m'\u001b[39;49m\u001b[43m,\u001b[49m\u001b[43mbackup_url\u001b[49m\u001b[38;5;241;43m=\u001b[39;49m\u001b[43madatas_dict\u001b[49m\u001b[43m[\u001b[49m\u001b[43mdata_key_use\u001b[49m\u001b[43m]\u001b[49m\u001b[43m)\u001b[49m\n\u001b[1;32m    144\u001b[0m \u001b[38;5;28;01melse\u001b[39;00m: \n\u001b[1;32m    145\u001b[0m     adata \u001b[38;5;241m=\u001b[39m sc\u001b[38;5;241m.\u001b[39mread(adatas_dict[data_key_use],backed\u001b[38;5;241m=\u001b[39mbacked)\n",
      "File \u001b[0;32m~/my-conda-envs/knn_bayes/lib/python3.10/site-packages/scanpy/readwrite.py:112\u001b[0m, in \u001b[0;36mread\u001b[0;34m(filename, backed, sheet, ext, delimiter, first_column_names, backup_url, cache, cache_compression, **kwargs)\u001b[0m\n\u001b[1;32m    110\u001b[0m filename \u001b[38;5;241m=\u001b[39m Path(filename)  \u001b[38;5;66;03m# allow passing strings\u001b[39;00m\n\u001b[1;32m    111\u001b[0m \u001b[38;5;28;01mif\u001b[39;00m is_valid_filename(filename):\n\u001b[0;32m--> 112\u001b[0m     \u001b[38;5;28;01mreturn\u001b[39;00m \u001b[43m_read\u001b[49m\u001b[43m(\u001b[49m\n\u001b[1;32m    113\u001b[0m \u001b[43m        \u001b[49m\u001b[43mfilename\u001b[49m\u001b[43m,\u001b[49m\n\u001b[1;32m    114\u001b[0m \u001b[43m        \u001b[49m\u001b[43mbacked\u001b[49m\u001b[38;5;241;43m=\u001b[39;49m\u001b[43mbacked\u001b[49m\u001b[43m,\u001b[49m\n\u001b[1;32m    115\u001b[0m \u001b[43m        \u001b[49m\u001b[43msheet\u001b[49m\u001b[38;5;241;43m=\u001b[39;49m\u001b[43msheet\u001b[49m\u001b[43m,\u001b[49m\n\u001b[1;32m    116\u001b[0m \u001b[43m        \u001b[49m\u001b[43mext\u001b[49m\u001b[38;5;241;43m=\u001b[39;49m\u001b[43mext\u001b[49m\u001b[43m,\u001b[49m\n\u001b[1;32m    117\u001b[0m \u001b[43m        \u001b[49m\u001b[43mdelimiter\u001b[49m\u001b[38;5;241;43m=\u001b[39;49m\u001b[43mdelimiter\u001b[49m\u001b[43m,\u001b[49m\n\u001b[1;32m    118\u001b[0m \u001b[43m        \u001b[49m\u001b[43mfirst_column_names\u001b[49m\u001b[38;5;241;43m=\u001b[39;49m\u001b[43mfirst_column_names\u001b[49m\u001b[43m,\u001b[49m\n\u001b[1;32m    119\u001b[0m \u001b[43m        \u001b[49m\u001b[43mbackup_url\u001b[49m\u001b[38;5;241;43m=\u001b[39;49m\u001b[43mbackup_url\u001b[49m\u001b[43m,\u001b[49m\n\u001b[1;32m    120\u001b[0m \u001b[43m        \u001b[49m\u001b[43mcache\u001b[49m\u001b[38;5;241;43m=\u001b[39;49m\u001b[43mcache\u001b[49m\u001b[43m,\u001b[49m\n\u001b[1;32m    121\u001b[0m \u001b[43m        \u001b[49m\u001b[43mcache_compression\u001b[49m\u001b[38;5;241;43m=\u001b[39;49m\u001b[43mcache_compression\u001b[49m\u001b[43m,\u001b[49m\n\u001b[1;32m    122\u001b[0m \u001b[43m        \u001b[49m\u001b[38;5;241;43m*\u001b[39;49m\u001b[38;5;241;43m*\u001b[39;49m\u001b[43mkwargs\u001b[49m\u001b[43m,\u001b[49m\n\u001b[1;32m    123\u001b[0m \u001b[43m    \u001b[49m\u001b[43m)\u001b[49m\n\u001b[1;32m    124\u001b[0m \u001b[38;5;66;03m# generate filename and read to dict\u001b[39;00m\n\u001b[1;32m    125\u001b[0m filekey \u001b[38;5;241m=\u001b[39m \u001b[38;5;28mstr\u001b[39m(filename)\n",
      "File \u001b[0;32m~/my-conda-envs/knn_bayes/lib/python3.10/site-packages/scanpy/readwrite.py:716\u001b[0m, in \u001b[0;36m_read\u001b[0;34m(filename, backed, sheet, ext, delimiter, first_column_names, backup_url, cache, cache_compression, suppress_cache_warning, **kwargs)\u001b[0m\n\u001b[1;32m    714\u001b[0m \u001b[38;5;28;01melse\u001b[39;00m:\n\u001b[1;32m    715\u001b[0m     ext \u001b[38;5;241m=\u001b[39m is_valid_filename(filename, return_ext\u001b[38;5;241m=\u001b[39m\u001b[38;5;28;01mTrue\u001b[39;00m)\n\u001b[0;32m--> 716\u001b[0m is_present \u001b[38;5;241m=\u001b[39m \u001b[43m_check_datafile_present_and_download\u001b[49m\u001b[43m(\u001b[49m\u001b[43mfilename\u001b[49m\u001b[43m,\u001b[49m\u001b[43m \u001b[49m\u001b[43mbackup_url\u001b[49m\u001b[38;5;241;43m=\u001b[39;49m\u001b[43mbackup_url\u001b[49m\u001b[43m)\u001b[49m\n\u001b[1;32m    717\u001b[0m \u001b[38;5;28;01mif\u001b[39;00m \u001b[38;5;129;01mnot\u001b[39;00m is_present:\n\u001b[1;32m    718\u001b[0m     logg\u001b[38;5;241m.\u001b[39mdebug(\u001b[38;5;124mf\u001b[39m\u001b[38;5;124m'\u001b[39m\u001b[38;5;124m... did not find original file \u001b[39m\u001b[38;5;132;01m{\u001b[39;00mfilename\u001b[38;5;132;01m}\u001b[39;00m\u001b[38;5;124m'\u001b[39m)\n",
      "File \u001b[0;32m~/my-conda-envs/knn_bayes/lib/python3.10/site-packages/scanpy/readwrite.py:1000\u001b[0m, in \u001b[0;36m_check_datafile_present_and_download\u001b[0;34m(path, backup_url)\u001b[0m\n\u001b[1;32m    998\u001b[0m \u001b[38;5;28;01mif\u001b[39;00m \u001b[38;5;129;01mnot\u001b[39;00m path\u001b[38;5;241m.\u001b[39mparent\u001b[38;5;241m.\u001b[39mis_dir():\n\u001b[1;32m    999\u001b[0m     logg\u001b[38;5;241m.\u001b[39minfo(\u001b[38;5;124mf\u001b[39m\u001b[38;5;124m'\u001b[39m\u001b[38;5;124mcreating directory \u001b[39m\u001b[38;5;132;01m{\u001b[39;00mpath\u001b[38;5;241m.\u001b[39mparent\u001b[38;5;132;01m}\u001b[39;00m\u001b[38;5;124m/ for saving data\u001b[39m\u001b[38;5;124m'\u001b[39m)\n\u001b[0;32m-> 1000\u001b[0m     \u001b[43mpath\u001b[49m\u001b[38;5;241;43m.\u001b[39;49m\u001b[43mparent\u001b[49m\u001b[38;5;241;43m.\u001b[39;49m\u001b[43mmkdir\u001b[49m\u001b[43m(\u001b[49m\u001b[43mparents\u001b[49m\u001b[38;5;241;43m=\u001b[39;49m\u001b[38;5;28;43;01mTrue\u001b[39;49;00m\u001b[43m)\u001b[49m\n\u001b[1;32m   1002\u001b[0m _download(backup_url, path)\n\u001b[1;32m   1003\u001b[0m \u001b[38;5;28;01mreturn\u001b[39;00m \u001b[38;5;28;01mTrue\u001b[39;00m\n",
      "File \u001b[0;32m~/my-conda-envs/knn_bayes/lib/python3.10/pathlib.py:1175\u001b[0m, in \u001b[0;36mPath.mkdir\u001b[0;34m(self, mode, parents, exist_ok)\u001b[0m\n\u001b[1;32m   1171\u001b[0m \u001b[38;5;250m\u001b[39m\u001b[38;5;124;03m\"\"\"\u001b[39;00m\n\u001b[1;32m   1172\u001b[0m \u001b[38;5;124;03mCreate a new directory at this given path.\u001b[39;00m\n\u001b[1;32m   1173\u001b[0m \u001b[38;5;124;03m\"\"\"\u001b[39;00m\n\u001b[1;32m   1174\u001b[0m \u001b[38;5;28;01mtry\u001b[39;00m:\n\u001b[0;32m-> 1175\u001b[0m     \u001b[38;5;28;43mself\u001b[39;49m\u001b[38;5;241;43m.\u001b[39;49m\u001b[43m_accessor\u001b[49m\u001b[38;5;241;43m.\u001b[39;49m\u001b[43mmkdir\u001b[49m\u001b[43m(\u001b[49m\u001b[38;5;28;43mself\u001b[39;49m\u001b[43m,\u001b[49m\u001b[43m \u001b[49m\u001b[43mmode\u001b[49m\u001b[43m)\u001b[49m\n\u001b[1;32m   1176\u001b[0m \u001b[38;5;28;01mexcept\u001b[39;00m \u001b[38;5;167;01mFileNotFoundError\u001b[39;00m:\n\u001b[1;32m   1177\u001b[0m     \u001b[38;5;28;01mif\u001b[39;00m \u001b[38;5;129;01mnot\u001b[39;00m parents \u001b[38;5;129;01mor\u001b[39;00m \u001b[38;5;28mself\u001b[39m\u001b[38;5;241m.\u001b[39mparent \u001b[38;5;241m==\u001b[39m \u001b[38;5;28mself\u001b[39m:\n",
      "\u001b[0;31mFileExistsError\u001b[0m: [Errno 17] File exists: '.'"
     ]
    }
   ],
   "source": [
    "# Let's load our dataset first. We can do this in backed mode\n",
    "adata =  FAN.load_adatas(adatas_dict, **model_params)\n",
    "# Now let's register our data, this step checks the model parameters and set's global defaults\n",
    "adata,positions,snn = FAN.register_data(adata, **model_params)\n",
    "\n",
    "# Optionally, we can perform some sampling to up sample rare-states and allow them to impact the resultant model optimisation\n",
    "if model_params['sample_data_knn'] != False:\n",
    "    print('Empirical bayes sampling option selected')\n",
    "    adata_samp, indices = FAN.empirical_bayes_balanced_stratified_KNN_sampling(adata, **model_params)\n",
    "    scent.plot_sampling_metrics(adata,adata_samp, **model_params)\n",
    "    adata = adata_samp.to_memory()\n",
    "print('adata registered')"
   ]
  },
  {
   "cell_type": "code",
   "execution_count": 4,
   "id": "underlying-nowhere",
   "metadata": {},
   "outputs": [
    {
     "data": {
      "text/plain": [
       "AxisArrays with keys: X_draw_graph_fa, X_pca"
      ]
     },
     "execution_count": 4,
     "metadata": {},
     "output_type": "execute_result"
    }
   ],
   "source": [
    "adata.obsm"
   ]
  },
  {
   "cell_type": "code",
   "execution_count": null,
   "id": "painful-symposium",
   "metadata": {},
   "outputs": [],
   "source": [
    "fpath = FAN.setup_animation(adata,**model_params)"
   ]
  },
  {
   "cell_type": "code",
   "execution_count": null,
   "id": "focused-paintball",
   "metadata": {},
   "outputs": [],
   "source": [
    "play(fpath)"
   ]
  },
  {
   "cell_type": "code",
   "execution_count": null,
   "id": "visible-parks",
   "metadata": {},
   "outputs": [],
   "source": []
  }
 ],
 "metadata": {
  "kernelspec": {
   "display_name": "knn_bayes",
   "language": "python",
   "name": "knn_bayes"
  },
  "language_info": {
   "codemirror_mode": {
    "name": "ipython",
    "version": 3
   },
   "file_extension": ".py",
   "mimetype": "text/x-python",
   "name": "python",
   "nbconvert_exporter": "python",
   "pygments_lexer": "ipython3",
   "version": "3.10.9"
  }
 },
 "nbformat": 4,
 "nbformat_minor": 5
}
