{
 "cells": [
  {
   "cell_type": "markdown",
   "id": "nearby-brighton",
   "metadata": {},
   "source": [
    "# Graphimate\n",
    "##### A fun wrapper and for producing iterated movies from iterative FDG graph layout optimizations\n",
    "\n",
    "# Graphimate workflow\n",
    "\n",
    "##### Ver:: A0.1.0\n",
    "##### Author(s) : Issac Goh\n",
    "##### Date : 230820;YYMMDD\n",
    "### Author notes\n",
    "    - Current defaults scrape data from web, so leave as default and run\n",
    "    \n",
    "### Features to add\n",
    "    - Add support for plotting modules from igraph\n",
    "    \n",
    "### Modes to run in\n",
    "    - FA2/FR"
   ]
  },
  {
   "cell_type": "code",
   "execution_count": 9,
   "id": "strange-aging",
   "metadata": {},
   "outputs": [
    {
     "ename": "ModuleNotFoundError",
     "evalue": "No module named 'graphimate'",
     "output_type": "error",
     "traceback": [
      "\u001b[0;31m---------------------------------------------------------------------------\u001b[0m",
      "\u001b[0;31mModuleNotFoundError\u001b[0m                       Traceback (most recent call last)",
      "Input \u001b[0;32mIn [9]\u001b[0m, in \u001b[0;36m<cell line: 2>\u001b[0;34m()\u001b[0m\n\u001b[1;32m      1\u001b[0m \u001b[38;5;66;03m# ! pip install FA2nimate\u001b[39;00m\n\u001b[0;32m----> 2\u001b[0m \u001b[38;5;28;01mimport\u001b[39;00m \u001b[38;5;21;01mgraphimate\u001b[39;00m \u001b[38;5;28;01mas\u001b[39;00m \u001b[38;5;21;01mgph\u001b[39;00m\n",
      "\u001b[0;31mModuleNotFoundError\u001b[0m: No module named 'graphimate'"
     ]
    }
   ],
   "source": [
    "# ! pip install FA2nimate\n",
    "import graphimate as gph"
   ]
  },
  {
   "cell_type": "markdown",
   "id": "interested-rolling",
   "metadata": {},
   "source": [
    "# Data input module"
   ]
  },
  {
   "cell_type": "code",
   "execution_count": 3,
   "id": "naval-diabetes",
   "metadata": {},
   "outputs": [],
   "source": [
    "adatas_dict = {\n",
    "'YS_wget':'https://app.cellatlas.io/yolk-sac/dataset/23/download',\n",
    "'example_wget':'https://app.cellatlas.io/yolk-sac/dataset/15/download',\n",
    "'example_YS_myeloid_wget':'https://app.cellatlas.io/yolk-sac/dataset/10/download',\n",
    "}\n",
    "\n",
    "# setup model parameters:\n",
    "model_params = {\n",
    "# data loader params\n",
    "'data_key_use':'example_YS_myeloid_wget',\n",
    "'data_merge':False,\n",
    "'QC_normalise':False,\n",
    "'backed':'r',\n",
    "\n",
    "# Animation parameters\n",
    "'feat_use': 'LR_assignment_v2',\n",
    "'use_initial' : 'X_pca', # what partition should we extract positions from?\n",
    "'n_iterations' : 100, #Increase if experiencing max iter issues\n",
    "'knn_key' : 'neighbors', # If you used KNN in scapy, this would be neighbors by default, but any other key must be stored in .obsp and have a call out in .uns (see scanpy default structure for more info)\n",
    "'edges': False,  # set to True to plot edges between cells\n",
    "'edge_subset' : 0.3   ,\n",
    "'desired_total_duration' : 10,  # Your desired total duration in seconds\n",
    "'resolution' : (1080,720),#(1920, 1080)  # output movie resolution\n",
    "'dpi' : 150,   # Pixel density of output\n",
    "'alg':'FA2', # This defaults to the FA2 algorythym.\n",
    "'skip_iterations': 1, #Number of iterations to skip between frames\n",
    "'explosion_duration':0.15, # duration of the interpolated explosion sequence in seconds\n",
    "'var_length' : 7500, # If we need to compute a PCA transformation, how many VAR should we use?\n",
    "'out_path':'./',\n",
    "'markersize':'10',\n",
    "    \n",
    "# Stratified Bayes sampler kwargs\n",
    "'sample_data_knn':False, \n",
    "'sampling_rate': 0.5,# Apply empirical bayes sampling weighted by knn?\n",
    "'iterations': 2,#How many iterations of sampling to use for empirical bayes sampler? Set this to 1 if you do not want any upsampling of rare-states. Probabilities update for each iteration and favour rare-states, increasing iter, naturally increases rare-sampling events\n",
    "'representation_priority': 0.95, # This exponentially controls the sampling rate for rare-states, where 1 represents low-prioritisation, 0.1 represetns maximum prioritisation\n",
    "'replace': False, # Allows model to clone cells\n",
    "'equal_allocation': False, # Forces model to create equal representation sets\n",
    "'weight_penalty': 'connectivity_ratio', # Or 'entropy_distance' or \"connectivity_ratio\"\n",
    "}"
   ]
  },
  {
   "cell_type": "code",
   "execution_count": 4,
   "id": "floral-raise",
   "metadata": {},
   "outputs": [
    {
     "name": "stdout",
     "output_type": "stream",
     "text": [
      "Loading anndata from web source\n",
      "initialisation coordinates not detected in data, proceeding to compute PCA\n",
      "We are assuming your data is pre-normalised\n",
      "unable to compute dispersion, is your data norm?\n",
      "proceeding to compute PCA on all genes as Highly var was not possible\n",
      "Unable to locate your KNN graph, we will look for the key in obsp\n",
      "initialisation graph not detected in data, proceeding to compute KNN\n"
     ]
    },
    {
     "ename": "KeyError",
     "evalue": "'diffmap_evals'",
     "output_type": "error",
     "traceback": [
      "\u001b[0;31m---------------------------------------------------------------------------\u001b[0m",
      "\u001b[0;31mKeyError\u001b[0m                                  Traceback (most recent call last)",
      "File \u001b[0;32m~/my-conda-envs/knn_bayes/lib/python3.10/site-packages/FA2nimate/main.py:65\u001b[0m, in \u001b[0;36mregister_data\u001b[0;34m(adata, feat_use, n_iterations, skip_iterations, explosion_duration, knn_key, use_initial, var_length, **kwargs)\u001b[0m\n\u001b[1;32m     64\u001b[0m \u001b[38;5;28;01mtry\u001b[39;00m:\n\u001b[0;32m---> 65\u001b[0m     snn \u001b[38;5;241m=\u001b[39m \u001b[43madata\u001b[49m\u001b[38;5;241;43m.\u001b[39;49m\u001b[43mobsp\u001b[49m\u001b[43m[\u001b[49m\u001b[43mknn_key\u001b[49m\u001b[43m]\u001b[49m\n\u001b[1;32m     66\u001b[0m     \u001b[38;5;28mprint\u001b[39m(\u001b[38;5;124m\"\u001b[39m\u001b[38;5;124mWe found your graph, we now assume that this is the actual connectivity matrix\u001b[39m\u001b[38;5;124m\"\u001b[39m)\n",
      "File \u001b[0;32m~/my-conda-envs/knn_bayes/lib/python3.10/site-packages/anndata/_core/aligned_mapping.py:148\u001b[0m, in \u001b[0;36mAlignedActualMixin.__getitem__\u001b[0;34m(self, key)\u001b[0m\n\u001b[1;32m    147\u001b[0m \u001b[38;5;28;01mdef\u001b[39;00m \u001b[38;5;21m__getitem__\u001b[39m(\u001b[38;5;28mself\u001b[39m, key: \u001b[38;5;28mstr\u001b[39m) \u001b[38;5;241m-\u001b[39m\u001b[38;5;241m>\u001b[39m V:\n\u001b[0;32m--> 148\u001b[0m     \u001b[38;5;28;01mreturn\u001b[39;00m \u001b[38;5;28;43mself\u001b[39;49m\u001b[38;5;241;43m.\u001b[39;49m\u001b[43m_data\u001b[49m\u001b[43m[\u001b[49m\u001b[43mkey\u001b[49m\u001b[43m]\u001b[49m\n",
      "\u001b[0;31mKeyError\u001b[0m: 'neighbors'",
      "\nDuring handling of the above exception, another exception occurred:\n",
      "\u001b[0;31mKeyError\u001b[0m                                  Traceback (most recent call last)",
      "Input \u001b[0;32mIn [4]\u001b[0m, in \u001b[0;36m<cell line: 4>\u001b[0;34m()\u001b[0m\n\u001b[1;32m      2\u001b[0m adata \u001b[38;5;241m=\u001b[39m  FAN\u001b[38;5;241m.\u001b[39mload_adatas(adatas_dict, \u001b[38;5;241m*\u001b[39m\u001b[38;5;241m*\u001b[39mmodel_params)\n\u001b[1;32m      3\u001b[0m \u001b[38;5;66;03m# Now let's register our data, this step checks the model parameters and set's global defaults\u001b[39;00m\n\u001b[0;32m----> 4\u001b[0m adata,positions,snn \u001b[38;5;241m=\u001b[39m \u001b[43mFAN\u001b[49m\u001b[38;5;241;43m.\u001b[39;49m\u001b[43mregister_data\u001b[49m\u001b[43m(\u001b[49m\u001b[43madata\u001b[49m\u001b[43m,\u001b[49m\u001b[43m \u001b[49m\u001b[38;5;241;43m*\u001b[39;49m\u001b[38;5;241;43m*\u001b[39;49m\u001b[43mmodel_params\u001b[49m\u001b[43m)\u001b[49m\n\u001b[1;32m      6\u001b[0m \u001b[38;5;66;03m# Optionally, we can perform some sampling to up sample rare-states and allow them to impact the resultant model optimisation\u001b[39;00m\n\u001b[1;32m      7\u001b[0m \u001b[38;5;28;01mif\u001b[39;00m model_params[\u001b[38;5;124m'\u001b[39m\u001b[38;5;124msample_data_knn\u001b[39m\u001b[38;5;124m'\u001b[39m] \u001b[38;5;241m!=\u001b[39m \u001b[38;5;28;01mFalse\u001b[39;00m:\n",
      "File \u001b[0;32m~/my-conda-envs/knn_bayes/lib/python3.10/site-packages/FA2nimate/main.py:69\u001b[0m, in \u001b[0;36mregister_data\u001b[0;34m(adata, feat_use, n_iterations, skip_iterations, explosion_duration, knn_key, use_initial, var_length, **kwargs)\u001b[0m\n\u001b[1;32m     67\u001b[0m     \u001b[38;5;28;01mexcept\u001b[39;00m:\n\u001b[1;32m     68\u001b[0m         \u001b[38;5;28mprint\u001b[39m(\u001b[38;5;124m'\u001b[39m\u001b[38;5;124minitialisation graph not detected in data, proceeding to compute KNN\u001b[39m\u001b[38;5;124m'\u001b[39m)\n\u001b[0;32m---> 69\u001b[0m         \u001b[43msc\u001b[49m\u001b[38;5;241;43m.\u001b[39;49m\u001b[43mpp\u001b[49m\u001b[38;5;241;43m.\u001b[39;49m\u001b[43mneighbors\u001b[49m\u001b[43m(\u001b[49m\u001b[43madata\u001b[49m\u001b[43m)\u001b[49m\n\u001b[1;32m     70\u001b[0m         snn \u001b[38;5;241m=\u001b[39m adata\u001b[38;5;241m.\u001b[39mobsp[adata\u001b[38;5;241m.\u001b[39muns[\u001b[38;5;124m'\u001b[39m\u001b[38;5;124mneighbors\u001b[39m\u001b[38;5;124m'\u001b[39m][\u001b[38;5;124m'\u001b[39m\u001b[38;5;124mconnectivities_key\u001b[39m\u001b[38;5;124m'\u001b[39m]]\n\u001b[1;32m     71\u001b[0m \u001b[38;5;28;01melse\u001b[39;00m:\n",
      "File \u001b[0;32m~/my-conda-envs/knn_bayes/lib/python3.10/site-packages/scanpy/neighbors/__init__.py:138\u001b[0m, in \u001b[0;36mneighbors\u001b[0;34m(adata, n_neighbors, n_pcs, use_rep, knn, random_state, method, metric, metric_kwds, key_added, copy)\u001b[0m\n\u001b[1;32m    136\u001b[0m \u001b[38;5;28;01mif\u001b[39;00m adata\u001b[38;5;241m.\u001b[39mis_view:  \u001b[38;5;66;03m# we shouldn't need this here...\u001b[39;00m\n\u001b[1;32m    137\u001b[0m     adata\u001b[38;5;241m.\u001b[39m_init_as_actual(adata\u001b[38;5;241m.\u001b[39mcopy())\n\u001b[0;32m--> 138\u001b[0m neighbors \u001b[38;5;241m=\u001b[39m \u001b[43mNeighbors\u001b[49m\u001b[43m(\u001b[49m\u001b[43madata\u001b[49m\u001b[43m)\u001b[49m\n\u001b[1;32m    139\u001b[0m neighbors\u001b[38;5;241m.\u001b[39mcompute_neighbors(\n\u001b[1;32m    140\u001b[0m     n_neighbors\u001b[38;5;241m=\u001b[39mn_neighbors,\n\u001b[1;32m    141\u001b[0m     knn\u001b[38;5;241m=\u001b[39mknn,\n\u001b[0;32m   (...)\u001b[0m\n\u001b[1;32m    147\u001b[0m     random_state\u001b[38;5;241m=\u001b[39mrandom_state,\n\u001b[1;32m    148\u001b[0m )\n\u001b[1;32m    150\u001b[0m \u001b[38;5;28;01mif\u001b[39;00m key_added \u001b[38;5;129;01mis\u001b[39;00m \u001b[38;5;28;01mNone\u001b[39;00m:\n",
      "File \u001b[0;32m~/my-conda-envs/knn_bayes/lib/python3.10/site-packages/scanpy/neighbors/__init__.py:631\u001b[0m, in \u001b[0;36mNeighbors.__init__\u001b[0;34m(self, adata, n_dcs, neighbors_key)\u001b[0m\n\u001b[1;32m    629\u001b[0m         \u001b[38;5;28mself\u001b[39m\u001b[38;5;241m.\u001b[39m_number_connected_components \u001b[38;5;241m=\u001b[39m \u001b[38;5;28mself\u001b[39m\u001b[38;5;241m.\u001b[39m_connected_components[\u001b[38;5;241m0\u001b[39m]\n\u001b[1;32m    630\u001b[0m \u001b[38;5;28;01mif\u001b[39;00m \u001b[38;5;124m'\u001b[39m\u001b[38;5;124mX_diffmap\u001b[39m\u001b[38;5;124m'\u001b[39m \u001b[38;5;129;01min\u001b[39;00m adata\u001b[38;5;241m.\u001b[39mobsm_keys():\n\u001b[0;32m--> 631\u001b[0m     \u001b[38;5;28mself\u001b[39m\u001b[38;5;241m.\u001b[39m_eigen_values \u001b[38;5;241m=\u001b[39m \u001b[43m_backwards_compat_get_full_eval\u001b[49m\u001b[43m(\u001b[49m\u001b[43madata\u001b[49m\u001b[43m)\u001b[49m\n\u001b[1;32m    632\u001b[0m     \u001b[38;5;28mself\u001b[39m\u001b[38;5;241m.\u001b[39m_eigen_basis \u001b[38;5;241m=\u001b[39m _backwards_compat_get_full_X_diffmap(adata)\n\u001b[1;32m    633\u001b[0m     \u001b[38;5;28;01mif\u001b[39;00m n_dcs \u001b[38;5;129;01mis\u001b[39;00m \u001b[38;5;129;01mnot\u001b[39;00m \u001b[38;5;28;01mNone\u001b[39;00m:\n",
      "File \u001b[0;32m~/my-conda-envs/knn_bayes/lib/python3.10/site-packages/scanpy/neighbors/__init__.py:476\u001b[0m, in \u001b[0;36m_backwards_compat_get_full_eval\u001b[0;34m(adata)\u001b[0m\n\u001b[1;32m    474\u001b[0m     \u001b[38;5;28;01mreturn\u001b[39;00m np\u001b[38;5;241m.\u001b[39mr_[\u001b[38;5;241m1\u001b[39m, adata\u001b[38;5;241m.\u001b[39muns[\u001b[38;5;124m'\u001b[39m\u001b[38;5;124mdiffmap_evals\u001b[39m\u001b[38;5;124m'\u001b[39m]]\n\u001b[1;32m    475\u001b[0m \u001b[38;5;28;01melse\u001b[39;00m:\n\u001b[0;32m--> 476\u001b[0m     \u001b[38;5;28;01mreturn\u001b[39;00m \u001b[43madata\u001b[49m\u001b[38;5;241;43m.\u001b[39;49m\u001b[43muns\u001b[49m\u001b[43m[\u001b[49m\u001b[38;5;124;43m'\u001b[39;49m\u001b[38;5;124;43mdiffmap_evals\u001b[39;49m\u001b[38;5;124;43m'\u001b[39;49m\u001b[43m]\u001b[49m\n",
      "File \u001b[0;32m~/my-conda-envs/knn_bayes/lib/python3.10/site-packages/anndata/compat/_overloaded_dict.py:100\u001b[0m, in \u001b[0;36mOverloadedDict.__getitem__\u001b[0;34m(self, key)\u001b[0m\n\u001b[1;32m     98\u001b[0m     \u001b[38;5;28;01mreturn\u001b[39;00m \u001b[38;5;28mself\u001b[39m\u001b[38;5;241m.\u001b[39moverloaded[key]\u001b[38;5;241m.\u001b[39mget()\n\u001b[1;32m     99\u001b[0m \u001b[38;5;28;01melse\u001b[39;00m:\n\u001b[0;32m--> 100\u001b[0m     \u001b[38;5;28;01mreturn\u001b[39;00m \u001b[38;5;28;43mself\u001b[39;49m\u001b[38;5;241;43m.\u001b[39;49m\u001b[43mdata\u001b[49m\u001b[43m[\u001b[49m\u001b[43mkey\u001b[49m\u001b[43m]\u001b[49m\n",
      "\u001b[0;31mKeyError\u001b[0m: 'diffmap_evals'"
     ]
    }
   ],
   "source": [
    "# Let's load our dataset first. We can do this in backed mode\n",
    "adata =  FAN.load_adatas(adatas_dict, **model_params)\n",
    "# Now let's register our data, this step checks the model parameters and set's global defaults\n",
    "adata,positions,snn = FAN.register_data(adata, **model_params)\n",
    "\n",
    "# Optionally, we can perform some sampling to up sample rare-states and allow them to impact the resultant model optimisation\n",
    "if model_params['sample_data_knn'] != False:\n",
    "    print('Empirical bayes sampling option selected')\n",
    "    adata_samp, indices = FAN.empirical_bayes_balanced_stratified_KNN_sampling(adata, **model_params)\n",
    "    scent.plot_sampling_metrics(adata,adata_samp, **model_params)\n",
    "    adata = adata_samp.to_memory()\n",
    "print('adata registered')"
   ]
  },
  {
   "cell_type": "code",
   "execution_count": 10,
   "id": "active-individual",
   "metadata": {},
   "outputs": [],
   "source": [
    "sc.pp.pca(adata)"
   ]
  },
  {
   "cell_type": "code",
   "execution_count": 11,
   "id": "square-colorado",
   "metadata": {},
   "outputs": [
    {
     "ename": "KeyError",
     "evalue": "'diffmap_evals'",
     "output_type": "error",
     "traceback": [
      "\u001b[0;31m---------------------------------------------------------------------------\u001b[0m",
      "\u001b[0;31mKeyError\u001b[0m                                  Traceback (most recent call last)",
      "Input \u001b[0;32mIn [11]\u001b[0m, in \u001b[0;36m<cell line: 1>\u001b[0;34m()\u001b[0m\n\u001b[0;32m----> 1\u001b[0m \u001b[43msc\u001b[49m\u001b[38;5;241;43m.\u001b[39;49m\u001b[43mpp\u001b[49m\u001b[38;5;241;43m.\u001b[39;49m\u001b[43mneighbors\u001b[49m\u001b[43m(\u001b[49m\u001b[43madata\u001b[49m\u001b[43m)\u001b[49m\n",
      "File \u001b[0;32m~/my-conda-envs/knn_bayes/lib/python3.10/site-packages/scanpy/neighbors/__init__.py:138\u001b[0m, in \u001b[0;36mneighbors\u001b[0;34m(adata, n_neighbors, n_pcs, use_rep, knn, random_state, method, metric, metric_kwds, key_added, copy)\u001b[0m\n\u001b[1;32m    136\u001b[0m \u001b[38;5;28;01mif\u001b[39;00m adata\u001b[38;5;241m.\u001b[39mis_view:  \u001b[38;5;66;03m# we shouldn't need this here...\u001b[39;00m\n\u001b[1;32m    137\u001b[0m     adata\u001b[38;5;241m.\u001b[39m_init_as_actual(adata\u001b[38;5;241m.\u001b[39mcopy())\n\u001b[0;32m--> 138\u001b[0m neighbors \u001b[38;5;241m=\u001b[39m \u001b[43mNeighbors\u001b[49m\u001b[43m(\u001b[49m\u001b[43madata\u001b[49m\u001b[43m)\u001b[49m\n\u001b[1;32m    139\u001b[0m neighbors\u001b[38;5;241m.\u001b[39mcompute_neighbors(\n\u001b[1;32m    140\u001b[0m     n_neighbors\u001b[38;5;241m=\u001b[39mn_neighbors,\n\u001b[1;32m    141\u001b[0m     knn\u001b[38;5;241m=\u001b[39mknn,\n\u001b[0;32m   (...)\u001b[0m\n\u001b[1;32m    147\u001b[0m     random_state\u001b[38;5;241m=\u001b[39mrandom_state,\n\u001b[1;32m    148\u001b[0m )\n\u001b[1;32m    150\u001b[0m \u001b[38;5;28;01mif\u001b[39;00m key_added \u001b[38;5;129;01mis\u001b[39;00m \u001b[38;5;28;01mNone\u001b[39;00m:\n",
      "File \u001b[0;32m~/my-conda-envs/knn_bayes/lib/python3.10/site-packages/scanpy/neighbors/__init__.py:631\u001b[0m, in \u001b[0;36mNeighbors.__init__\u001b[0;34m(self, adata, n_dcs, neighbors_key)\u001b[0m\n\u001b[1;32m    629\u001b[0m         \u001b[38;5;28mself\u001b[39m\u001b[38;5;241m.\u001b[39m_number_connected_components \u001b[38;5;241m=\u001b[39m \u001b[38;5;28mself\u001b[39m\u001b[38;5;241m.\u001b[39m_connected_components[\u001b[38;5;241m0\u001b[39m]\n\u001b[1;32m    630\u001b[0m \u001b[38;5;28;01mif\u001b[39;00m \u001b[38;5;124m'\u001b[39m\u001b[38;5;124mX_diffmap\u001b[39m\u001b[38;5;124m'\u001b[39m \u001b[38;5;129;01min\u001b[39;00m adata\u001b[38;5;241m.\u001b[39mobsm_keys():\n\u001b[0;32m--> 631\u001b[0m     \u001b[38;5;28mself\u001b[39m\u001b[38;5;241m.\u001b[39m_eigen_values \u001b[38;5;241m=\u001b[39m \u001b[43m_backwards_compat_get_full_eval\u001b[49m\u001b[43m(\u001b[49m\u001b[43madata\u001b[49m\u001b[43m)\u001b[49m\n\u001b[1;32m    632\u001b[0m     \u001b[38;5;28mself\u001b[39m\u001b[38;5;241m.\u001b[39m_eigen_basis \u001b[38;5;241m=\u001b[39m _backwards_compat_get_full_X_diffmap(adata)\n\u001b[1;32m    633\u001b[0m     \u001b[38;5;28;01mif\u001b[39;00m n_dcs \u001b[38;5;129;01mis\u001b[39;00m \u001b[38;5;129;01mnot\u001b[39;00m \u001b[38;5;28;01mNone\u001b[39;00m:\n",
      "File \u001b[0;32m~/my-conda-envs/knn_bayes/lib/python3.10/site-packages/scanpy/neighbors/__init__.py:476\u001b[0m, in \u001b[0;36m_backwards_compat_get_full_eval\u001b[0;34m(adata)\u001b[0m\n\u001b[1;32m    474\u001b[0m     \u001b[38;5;28;01mreturn\u001b[39;00m np\u001b[38;5;241m.\u001b[39mr_[\u001b[38;5;241m1\u001b[39m, adata\u001b[38;5;241m.\u001b[39muns[\u001b[38;5;124m'\u001b[39m\u001b[38;5;124mdiffmap_evals\u001b[39m\u001b[38;5;124m'\u001b[39m]]\n\u001b[1;32m    475\u001b[0m \u001b[38;5;28;01melse\u001b[39;00m:\n\u001b[0;32m--> 476\u001b[0m     \u001b[38;5;28;01mreturn\u001b[39;00m \u001b[43madata\u001b[49m\u001b[38;5;241;43m.\u001b[39;49m\u001b[43muns\u001b[49m\u001b[43m[\u001b[49m\u001b[38;5;124;43m'\u001b[39;49m\u001b[38;5;124;43mdiffmap_evals\u001b[39;49m\u001b[38;5;124;43m'\u001b[39;49m\u001b[43m]\u001b[49m\n",
      "File \u001b[0;32m~/my-conda-envs/knn_bayes/lib/python3.10/site-packages/anndata/compat/_overloaded_dict.py:100\u001b[0m, in \u001b[0;36mOverloadedDict.__getitem__\u001b[0;34m(self, key)\u001b[0m\n\u001b[1;32m     98\u001b[0m     \u001b[38;5;28;01mreturn\u001b[39;00m \u001b[38;5;28mself\u001b[39m\u001b[38;5;241m.\u001b[39moverloaded[key]\u001b[38;5;241m.\u001b[39mget()\n\u001b[1;32m     99\u001b[0m \u001b[38;5;28;01melse\u001b[39;00m:\n\u001b[0;32m--> 100\u001b[0m     \u001b[38;5;28;01mreturn\u001b[39;00m \u001b[38;5;28;43mself\u001b[39;49m\u001b[38;5;241;43m.\u001b[39;49m\u001b[43mdata\u001b[49m\u001b[43m[\u001b[49m\u001b[43mkey\u001b[49m\u001b[43m]\u001b[49m\n",
      "\u001b[0;31mKeyError\u001b[0m: 'diffmap_evals'"
     ]
    }
   ],
   "source": [
    "sc.pp.neighbors(adata)"
   ]
  },
  {
   "cell_type": "code",
   "execution_count": 8,
   "id": "alleged-intelligence",
   "metadata": {},
   "outputs": [
    {
     "data": {
      "text/plain": [
       "AnnData object with n_obs × n_vars = 3389 × 16849\n",
       "    obs: 'cell.labels', 'component', 'stage', 'sex', 'sort.ids', 'fetal.ids', 'orig.dataset', 'sequencing.type', 'lanes'\n",
       "    var: 'highly_variable', 'means', 'dispersions', 'dispersions_norm'\n",
       "    uns: 'hvg', 'pca'\n",
       "    obsm: 'X_diffmap', 'X_draw_graph_fa', 'X_umap', 'X_pca'\n",
       "    varm: 'PCs'"
      ]
     },
     "execution_count": 8,
     "metadata": {},
     "output_type": "execute_result"
    }
   ],
   "source": [
    "adata"
   ]
  },
  {
   "cell_type": "code",
   "execution_count": 7,
   "id": "exotic-istanbul",
   "metadata": {},
   "outputs": [
    {
     "ename": "KeyError",
     "evalue": "'diffmap_evals'",
     "output_type": "error",
     "traceback": [
      "\u001b[0;31m---------------------------------------------------------------------------\u001b[0m",
      "\u001b[0;31mKeyError\u001b[0m                                  Traceback (most recent call last)",
      "Input \u001b[0;32mIn [7]\u001b[0m, in \u001b[0;36m<cell line: 2>\u001b[0;34m()\u001b[0m\n\u001b[1;32m      1\u001b[0m \u001b[38;5;28;01mimport\u001b[39;00m \u001b[38;5;21;01mscanpy\u001b[39;00m \u001b[38;5;28;01mas\u001b[39;00m \u001b[38;5;21;01msc\u001b[39;00m\n\u001b[0;32m----> 2\u001b[0m \u001b[43msc\u001b[49m\u001b[38;5;241;43m.\u001b[39;49m\u001b[43mpp\u001b[49m\u001b[38;5;241;43m.\u001b[39;49m\u001b[43mneighbors\u001b[49m\u001b[43m(\u001b[49m\u001b[43madata\u001b[49m\u001b[43m)\u001b[49m\n",
      "File \u001b[0;32m~/my-conda-envs/knn_bayes/lib/python3.10/site-packages/scanpy/neighbors/__init__.py:138\u001b[0m, in \u001b[0;36mneighbors\u001b[0;34m(adata, n_neighbors, n_pcs, use_rep, knn, random_state, method, metric, metric_kwds, key_added, copy)\u001b[0m\n\u001b[1;32m    136\u001b[0m \u001b[38;5;28;01mif\u001b[39;00m adata\u001b[38;5;241m.\u001b[39mis_view:  \u001b[38;5;66;03m# we shouldn't need this here...\u001b[39;00m\n\u001b[1;32m    137\u001b[0m     adata\u001b[38;5;241m.\u001b[39m_init_as_actual(adata\u001b[38;5;241m.\u001b[39mcopy())\n\u001b[0;32m--> 138\u001b[0m neighbors \u001b[38;5;241m=\u001b[39m \u001b[43mNeighbors\u001b[49m\u001b[43m(\u001b[49m\u001b[43madata\u001b[49m\u001b[43m)\u001b[49m\n\u001b[1;32m    139\u001b[0m neighbors\u001b[38;5;241m.\u001b[39mcompute_neighbors(\n\u001b[1;32m    140\u001b[0m     n_neighbors\u001b[38;5;241m=\u001b[39mn_neighbors,\n\u001b[1;32m    141\u001b[0m     knn\u001b[38;5;241m=\u001b[39mknn,\n\u001b[0;32m   (...)\u001b[0m\n\u001b[1;32m    147\u001b[0m     random_state\u001b[38;5;241m=\u001b[39mrandom_state,\n\u001b[1;32m    148\u001b[0m )\n\u001b[1;32m    150\u001b[0m \u001b[38;5;28;01mif\u001b[39;00m key_added \u001b[38;5;129;01mis\u001b[39;00m \u001b[38;5;28;01mNone\u001b[39;00m:\n",
      "File \u001b[0;32m~/my-conda-envs/knn_bayes/lib/python3.10/site-packages/scanpy/neighbors/__init__.py:631\u001b[0m, in \u001b[0;36mNeighbors.__init__\u001b[0;34m(self, adata, n_dcs, neighbors_key)\u001b[0m\n\u001b[1;32m    629\u001b[0m         \u001b[38;5;28mself\u001b[39m\u001b[38;5;241m.\u001b[39m_number_connected_components \u001b[38;5;241m=\u001b[39m \u001b[38;5;28mself\u001b[39m\u001b[38;5;241m.\u001b[39m_connected_components[\u001b[38;5;241m0\u001b[39m]\n\u001b[1;32m    630\u001b[0m \u001b[38;5;28;01mif\u001b[39;00m \u001b[38;5;124m'\u001b[39m\u001b[38;5;124mX_diffmap\u001b[39m\u001b[38;5;124m'\u001b[39m \u001b[38;5;129;01min\u001b[39;00m adata\u001b[38;5;241m.\u001b[39mobsm_keys():\n\u001b[0;32m--> 631\u001b[0m     \u001b[38;5;28mself\u001b[39m\u001b[38;5;241m.\u001b[39m_eigen_values \u001b[38;5;241m=\u001b[39m \u001b[43m_backwards_compat_get_full_eval\u001b[49m\u001b[43m(\u001b[49m\u001b[43madata\u001b[49m\u001b[43m)\u001b[49m\n\u001b[1;32m    632\u001b[0m     \u001b[38;5;28mself\u001b[39m\u001b[38;5;241m.\u001b[39m_eigen_basis \u001b[38;5;241m=\u001b[39m _backwards_compat_get_full_X_diffmap(adata)\n\u001b[1;32m    633\u001b[0m     \u001b[38;5;28;01mif\u001b[39;00m n_dcs \u001b[38;5;129;01mis\u001b[39;00m \u001b[38;5;129;01mnot\u001b[39;00m \u001b[38;5;28;01mNone\u001b[39;00m:\n",
      "File \u001b[0;32m~/my-conda-envs/knn_bayes/lib/python3.10/site-packages/scanpy/neighbors/__init__.py:476\u001b[0m, in \u001b[0;36m_backwards_compat_get_full_eval\u001b[0;34m(adata)\u001b[0m\n\u001b[1;32m    474\u001b[0m     \u001b[38;5;28;01mreturn\u001b[39;00m np\u001b[38;5;241m.\u001b[39mr_[\u001b[38;5;241m1\u001b[39m, adata\u001b[38;5;241m.\u001b[39muns[\u001b[38;5;124m'\u001b[39m\u001b[38;5;124mdiffmap_evals\u001b[39m\u001b[38;5;124m'\u001b[39m]]\n\u001b[1;32m    475\u001b[0m \u001b[38;5;28;01melse\u001b[39;00m:\n\u001b[0;32m--> 476\u001b[0m     \u001b[38;5;28;01mreturn\u001b[39;00m \u001b[43madata\u001b[49m\u001b[38;5;241;43m.\u001b[39;49m\u001b[43muns\u001b[49m\u001b[43m[\u001b[49m\u001b[38;5;124;43m'\u001b[39;49m\u001b[38;5;124;43mdiffmap_evals\u001b[39;49m\u001b[38;5;124;43m'\u001b[39;49m\u001b[43m]\u001b[49m\n",
      "File \u001b[0;32m~/my-conda-envs/knn_bayes/lib/python3.10/site-packages/anndata/compat/_overloaded_dict.py:100\u001b[0m, in \u001b[0;36mOverloadedDict.__getitem__\u001b[0;34m(self, key)\u001b[0m\n\u001b[1;32m     98\u001b[0m     \u001b[38;5;28;01mreturn\u001b[39;00m \u001b[38;5;28mself\u001b[39m\u001b[38;5;241m.\u001b[39moverloaded[key]\u001b[38;5;241m.\u001b[39mget()\n\u001b[1;32m     99\u001b[0m \u001b[38;5;28;01melse\u001b[39;00m:\n\u001b[0;32m--> 100\u001b[0m     \u001b[38;5;28;01mreturn\u001b[39;00m \u001b[38;5;28;43mself\u001b[39;49m\u001b[38;5;241;43m.\u001b[39;49m\u001b[43mdata\u001b[49m\u001b[43m[\u001b[49m\u001b[43mkey\u001b[49m\u001b[43m]\u001b[49m\n",
      "\u001b[0;31mKeyError\u001b[0m: 'diffmap_evals'"
     ]
    }
   ],
   "source": [
    "import scanpy as sc\n",
    "sc.pp.neighbors(adata)"
   ]
  },
  {
   "cell_type": "code",
   "execution_count": null,
   "id": "diagnostic-tobago",
   "metadata": {},
   "outputs": [],
   "source": [
    "adata.obsm"
   ]
  },
  {
   "cell_type": "code",
   "execution_count": null,
   "id": "nonprofit-career",
   "metadata": {},
   "outputs": [],
   "source": [
    "fpath = FAN.setup_animation(adata,**model_params)"
   ]
  },
  {
   "cell_type": "code",
   "execution_count": null,
   "id": "numerous-seeking",
   "metadata": {},
   "outputs": [],
   "source": [
    "play(fpath)"
   ]
  },
  {
   "cell_type": "code",
   "execution_count": null,
   "id": "greek-laptop",
   "metadata": {},
   "outputs": [],
   "source": []
  }
 ],
 "metadata": {
  "kernelspec": {
   "display_name": "knn_bayes",
   "language": "python",
   "name": "knn_bayes"
  },
  "language_info": {
   "codemirror_mode": {
    "name": "ipython",
    "version": 3
   },
   "file_extension": ".py",
   "mimetype": "text/x-python",
   "name": "python",
   "nbconvert_exporter": "python",
   "pygments_lexer": "ipython3",
   "version": "3.10.9"
  }
 },
 "nbformat": 4,
 "nbformat_minor": 5
}
